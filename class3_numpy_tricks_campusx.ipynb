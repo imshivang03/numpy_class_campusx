{
 "cells": [
  {
   "cell_type": "markdown",
   "id": "09a29ae2",
   "metadata": {},
   "source": [
    "# Numpy Tricks"
   ]
  },
  {
   "cell_type": "markdown",
   "id": "637a1ded",
   "metadata": {},
   "source": [
    "## np.sort\n",
    "np.sort() returns a sorted copy of an array.\n",
    "\n",
    "https://numpy.org/doc/stable/reference/generated/numpy.sort.html"
   ]
  },
  {
   "cell_type": "code",
   "execution_count": 2,
   "id": "d7d939a4",
   "metadata": {},
   "outputs": [
    {
     "data": {
      "text/plain": [
       "array([80, 61, 20, 20,  6, 77, 81, 31,  1, 73, 25, 49, 28, 53, 24])"
      ]
     },
     "execution_count": 2,
     "metadata": {},
     "output_type": "execute_result"
    }
   ],
   "source": [
    "import numpy as np\n",
    "a= np.random.randint(1,100,15)\n",
    "a"
   ]
  },
  {
   "cell_type": "code",
   "execution_count": 4,
   "id": "6a3b1f52",
   "metadata": {},
   "outputs": [
    {
     "data": {
      "text/plain": [
       "array([[ 1, 16, 17,  9],\n",
       "       [17, 95, 19, 13],\n",
       "       [ 9, 54, 73, 50],\n",
       "       [16, 60, 90, 64],\n",
       "       [86, 24, 91, 79],\n",
       "       [20, 54, 41, 51]])"
      ]
     },
     "execution_count": 4,
     "metadata": {},
     "output_type": "execute_result"
    }
   ],
   "source": [
    "b= np.random.randint(1,100,24).reshape(6,4)\n",
    "b"
   ]
  },
  {
   "cell_type": "code",
   "execution_count": 5,
   "id": "cbd5c25e",
   "metadata": {},
   "outputs": [
    {
     "data": {
      "text/plain": [
       "array([ 1,  6, 20, 20, 24, 25, 28, 31, 49, 53, 61, 73, 77, 80, 81])"
      ]
     },
     "execution_count": 5,
     "metadata": {},
     "output_type": "execute_result"
    }
   ],
   "source": [
    "np.sort(a)"
   ]
  },
  {
   "cell_type": "code",
   "execution_count": 6,
   "id": "9028d1a8",
   "metadata": {},
   "outputs": [
    {
     "data": {
      "text/plain": [
       "array([81, 80, 77, 73, 61, 53, 49, 31, 28, 25, 24, 20, 20,  6,  1])"
      ]
     },
     "execution_count": 6,
     "metadata": {},
     "output_type": "execute_result"
    }
   ],
   "source": [
    "np.sort(a)[::-1]"
   ]
  },
  {
   "cell_type": "code",
   "execution_count": 7,
   "id": "45d61322",
   "metadata": {},
   "outputs": [
    {
     "data": {
      "text/plain": [
       "array([[ 1, 16, 17,  9],\n",
       "       [ 9, 24, 19, 13],\n",
       "       [16, 54, 41, 50],\n",
       "       [17, 54, 73, 51],\n",
       "       [20, 60, 90, 64],\n",
       "       [86, 95, 91, 79]])"
      ]
     },
     "execution_count": 7,
     "metadata": {},
     "output_type": "execute_result"
    }
   ],
   "source": [
    "# axis=0 means columns and axis=1 means rows\n",
    "np.sort(b, axis=0)"
   ]
  },
  {
   "cell_type": "markdown",
   "id": "fb07ff46",
   "metadata": {},
   "source": [
    "## np.append\n",
    "The numpy.append() appends values along the mentioned axis at the end of the array\n",
    "\n",
    "https://numpy.org/doc/stable/reference/generated/numpy.append.html"
   ]
  },
  {
   "cell_type": "code",
   "execution_count": 8,
   "id": "3825319d",
   "metadata": {},
   "outputs": [
    {
     "data": {
      "text/plain": [
       "array([ 80,  61,  20,  20,   6,  77,  81,  31,   1,  73,  25,  49,  28,\n",
       "        53,  24, 200])"
      ]
     },
     "execution_count": 8,
     "metadata": {},
     "output_type": "execute_result"
    }
   ],
   "source": [
    "np.append(a,200)"
   ]
  },
  {
   "cell_type": "code",
   "execution_count": 10,
   "id": "5c21f35d",
   "metadata": {},
   "outputs": [
    {
     "data": {
      "text/plain": [
       "array([[ 1, 16, 17,  9],\n",
       "       [17, 95, 19, 13],\n",
       "       [ 9, 54, 73, 50],\n",
       "       [16, 60, 90, 64],\n",
       "       [86, 24, 91, 79],\n",
       "       [20, 54, 41, 51]])"
      ]
     },
     "execution_count": 10,
     "metadata": {},
     "output_type": "execute_result"
    }
   ],
   "source": [
    "b"
   ]
  },
  {
   "cell_type": "code",
   "execution_count": 17,
   "id": "6dcf0826",
   "metadata": {},
   "outputs": [
    {
     "data": {
      "text/plain": [
       "(6, 1)"
      ]
     },
     "execution_count": 17,
     "metadata": {},
     "output_type": "execute_result"
    }
   ],
   "source": [
    "(b.shape[0],1)"
   ]
  },
  {
   "cell_type": "code",
   "execution_count": 11,
   "id": "743c6953",
   "metadata": {},
   "outputs": [
    {
     "data": {
      "text/plain": [
       "array([[ 1.        , 16.        , 17.        ,  9.        ,  0.45846975],\n",
       "       [17.        , 95.        , 19.        , 13.        ,  0.47038503],\n",
       "       [ 9.        , 54.        , 73.        , 50.        ,  0.79441355],\n",
       "       [16.        , 60.        , 90.        , 64.        ,  0.54942327],\n",
       "       [86.        , 24.        , 91.        , 79.        ,  0.53057452],\n",
       "       [20.        , 54.        , 41.        , 51.        ,  0.90580587]])"
      ]
     },
     "execution_count": 11,
     "metadata": {},
     "output_type": "execute_result"
    }
   ],
   "source": [
    "np.append(b, np.random.random((b.shape[0],1)), axis=1)"
   ]
  },
  {
   "cell_type": "markdown",
   "id": "a99ed905",
   "metadata": {},
   "source": [
    "## np.concatenate\n",
    "numpy.concatenate() function concatenate a sequence of arrays along an existing axis.\n",
    "\n",
    "https://numpy.org/doc/stable/reference/generated/numpy.concatenate.html"
   ]
  },
  {
   "cell_type": "code",
   "execution_count": 19,
   "id": "d6ca9331",
   "metadata": {},
   "outputs": [
    {
     "name": "stdout",
     "output_type": "stream",
     "text": [
      "[[0 1 2]\n",
      " [3 4 5]]\n",
      "[[ 6  7  8]\n",
      " [ 9 10 11]]\n"
     ]
    }
   ],
   "source": [
    "c= np.arange(6).reshape(2,3)\n",
    "d= np.arange(6,12).reshape(2,3)\n",
    "print(c)\n",
    "print(d)"
   ]
  },
  {
   "cell_type": "code",
   "execution_count": 20,
   "id": "db19c205",
   "metadata": {},
   "outputs": [
    {
     "data": {
      "text/plain": [
       "array([[ 0,  1,  2,  6,  7,  8],\n",
       "       [ 3,  4,  5,  9, 10, 11]])"
      ]
     },
     "execution_count": 20,
     "metadata": {},
     "output_type": "execute_result"
    }
   ],
   "source": [
    "np.concatenate((c,d), axis=1)"
   ]
  },
  {
   "cell_type": "code",
   "execution_count": 21,
   "id": "ae411d4a",
   "metadata": {},
   "outputs": [
    {
     "data": {
      "text/plain": [
       "array([[ 0,  1,  2],\n",
       "       [ 3,  4,  5],\n",
       "       [ 6,  7,  8],\n",
       "       [ 9, 10, 11]])"
      ]
     },
     "execution_count": 21,
     "metadata": {},
     "output_type": "execute_result"
    }
   ],
   "source": [
    "np.concatenate((c,d), axis=0)"
   ]
  },
  {
   "cell_type": "markdown",
   "id": "f1ae8908",
   "metadata": {},
   "source": [
    "## np.unique\n",
    "With the help of np.unique() method, we can get the unique values from an array given as parameter in np.unique() method.\n",
    "\n",
    "https://numpy.org/doc/stable/reference/generated/numpy.unique.html/"
   ]
  },
  {
   "cell_type": "code",
   "execution_count": 22,
   "id": "4b3ac68a",
   "metadata": {},
   "outputs": [],
   "source": [
    "e= np.array([1,1,2,2,3,3,3,4,4,4,5,5,6,7])"
   ]
  },
  {
   "cell_type": "code",
   "execution_count": 23,
   "id": "63d6d98e",
   "metadata": {},
   "outputs": [
    {
     "data": {
      "text/plain": [
       "array([1, 2, 3, 4, 5, 6, 7])"
      ]
     },
     "execution_count": 23,
     "metadata": {},
     "output_type": "execute_result"
    }
   ],
   "source": [
    "np.unique(e)"
   ]
  },
  {
   "cell_type": "markdown",
   "id": "654fc6be",
   "metadata": {},
   "source": [
    "## np.expand_dims\n",
    "With the help of Numpy.expand_dims() method, we can get the expanded dimensions of an array\n",
    "\n",
    "https://numpy.org/doc/stable/reference/generated/numpy.expand_dims.html"
   ]
  },
  {
   "cell_type": "code",
   "execution_count": 27,
   "id": "c9e41d35",
   "metadata": {},
   "outputs": [
    {
     "data": {
      "text/plain": [
       "array([80, 61, 20, 20,  6, 77, 81, 31,  1, 73, 25, 49, 28, 53, 24])"
      ]
     },
     "execution_count": 27,
     "metadata": {},
     "output_type": "execute_result"
    }
   ],
   "source": [
    "a"
   ]
  },
  {
   "cell_type": "code",
   "execution_count": 24,
   "id": "89fda2e4",
   "metadata": {},
   "outputs": [
    {
     "data": {
      "text/plain": [
       "(15,)"
      ]
     },
     "execution_count": 24,
     "metadata": {},
     "output_type": "execute_result"
    }
   ],
   "source": [
    "a.shape"
   ]
  },
  {
   "cell_type": "code",
   "execution_count": 26,
   "id": "e6a16efd",
   "metadata": {},
   "outputs": [
    {
     "data": {
      "text/plain": [
       "array([[80, 61, 20, 20,  6, 77, 81, 31,  1, 73, 25, 49, 28, 53, 24]])"
      ]
     },
     "execution_count": 26,
     "metadata": {},
     "output_type": "execute_result"
    }
   ],
   "source": [
    "np.expand_dims(a, axis=0)"
   ]
  },
  {
   "cell_type": "code",
   "execution_count": 25,
   "id": "d347da43",
   "metadata": {},
   "outputs": [
    {
     "data": {
      "text/plain": [
       "(1, 15)"
      ]
     },
     "execution_count": 25,
     "metadata": {},
     "output_type": "execute_result"
    }
   ],
   "source": [
    "np.expand_dims(a, axis=0).shape"
   ]
  },
  {
   "cell_type": "code",
   "execution_count": 28,
   "id": "81d2a9f7",
   "metadata": {},
   "outputs": [
    {
     "data": {
      "text/plain": [
       "array([[80],\n",
       "       [61],\n",
       "       [20],\n",
       "       [20],\n",
       "       [ 6],\n",
       "       [77],\n",
       "       [81],\n",
       "       [31],\n",
       "       [ 1],\n",
       "       [73],\n",
       "       [25],\n",
       "       [49],\n",
       "       [28],\n",
       "       [53],\n",
       "       [24]])"
      ]
     },
     "execution_count": 28,
     "metadata": {},
     "output_type": "execute_result"
    }
   ],
   "source": [
    "np.expand_dims(a, axis=1)"
   ]
  },
  {
   "cell_type": "code",
   "execution_count": 29,
   "id": "cb8e3740",
   "metadata": {},
   "outputs": [
    {
     "data": {
      "text/plain": [
       "(15, 1)"
      ]
     },
     "execution_count": 29,
     "metadata": {},
     "output_type": "execute_result"
    }
   ],
   "source": [
    "np.expand_dims(a, axis=1).shape"
   ]
  },
  {
   "cell_type": "markdown",
   "id": "f895bb45",
   "metadata": {},
   "source": [
    "## np.where\n",
    "The numpy.where() function returns the indices of elements in an input array where the given condition is satisfied.\n",
    "\n",
    "https://numpy.org/doc/stable/reference/generated/numpy.where.html"
   ]
  },
  {
   "cell_type": "code",
   "execution_count": 30,
   "id": "36aab0ad",
   "metadata": {},
   "outputs": [
    {
     "data": {
      "text/plain": [
       "array([80, 61, 20, 20,  6, 77, 81, 31,  1, 73, 25, 49, 28, 53, 24])"
      ]
     },
     "execution_count": 30,
     "metadata": {},
     "output_type": "execute_result"
    }
   ],
   "source": [
    "a"
   ]
  },
  {
   "cell_type": "code",
   "execution_count": 32,
   "id": "a3259c5e",
   "metadata": {},
   "outputs": [
    {
     "data": {
      "text/plain": [
       "(array([ 0,  1,  5,  6,  9, 13], dtype=int64),)"
      ]
     },
     "execution_count": 32,
     "metadata": {},
     "output_type": "execute_result"
    }
   ],
   "source": [
    "# find all indices with value greater than 50\n",
    "np.where(a>50)"
   ]
  },
  {
   "cell_type": "code",
   "execution_count": 33,
   "id": "3b4d3406",
   "metadata": {},
   "outputs": [
    {
     "data": {
      "text/plain": [
       "array([ 0,  0, 20, 20,  6,  0,  0, 31,  1,  0, 25, 49, 28,  0, 24])"
      ]
     },
     "execution_count": 33,
     "metadata": {},
     "output_type": "execute_result"
    }
   ],
   "source": [
    "# replace all values > 50 with 0\n",
    "np.where(a>50,0,a)"
   ]
  },
  {
   "cell_type": "code",
   "execution_count": 34,
   "id": "b6a5c650",
   "metadata": {},
   "outputs": [
    {
     "data": {
      "text/plain": [
       "array([ 0, 61,  0,  0,  0, 77, 81, 31,  1, 73, 25, 49,  0, 53,  0])"
      ]
     },
     "execution_count": 34,
     "metadata": {},
     "output_type": "execute_result"
    }
   ],
   "source": [
    "np.where(a%2==0,0,a)"
   ]
  },
  {
   "cell_type": "markdown",
   "id": "ed011416",
   "metadata": {},
   "source": [
    "## np.argmax & np.argmin\n",
    "The numpy.argmax() function returns indices of the max element of the array in a particular axis.\n",
    "\n",
    "The numpy.argmin() function returns indices of the min element of the array in a particular axis.\n",
    "\n",
    "https://numpy.org/doc/stable/reference/generated/numpy.argmax.html"
   ]
  },
  {
   "cell_type": "code",
   "execution_count": 35,
   "id": "b9e55b7a",
   "metadata": {},
   "outputs": [
    {
     "data": {
      "text/plain": [
       "array([80, 61, 20, 20,  6, 77, 81, 31,  1, 73, 25, 49, 28, 53, 24])"
      ]
     },
     "execution_count": 35,
     "metadata": {},
     "output_type": "execute_result"
    }
   ],
   "source": [
    "a"
   ]
  },
  {
   "cell_type": "code",
   "execution_count": 36,
   "id": "08672a4e",
   "metadata": {},
   "outputs": [
    {
     "data": {
      "text/plain": [
       "6"
      ]
     },
     "execution_count": 36,
     "metadata": {},
     "output_type": "execute_result"
    }
   ],
   "source": [
    "np.argmax(a)"
   ]
  },
  {
   "cell_type": "code",
   "execution_count": 37,
   "id": "5a121be2",
   "metadata": {},
   "outputs": [
    {
     "data": {
      "text/plain": [
       "array([[ 1, 16, 17,  9],\n",
       "       [17, 95, 19, 13],\n",
       "       [ 9, 54, 73, 50],\n",
       "       [16, 60, 90, 64],\n",
       "       [86, 24, 91, 79],\n",
       "       [20, 54, 41, 51]])"
      ]
     },
     "execution_count": 37,
     "metadata": {},
     "output_type": "execute_result"
    }
   ],
   "source": [
    "b"
   ]
  },
  {
   "cell_type": "code",
   "execution_count": 39,
   "id": "41b78a71",
   "metadata": {},
   "outputs": [
    {
     "data": {
      "text/plain": [
       "array([4, 1, 4, 4], dtype=int64)"
      ]
     },
     "execution_count": 39,
     "metadata": {},
     "output_type": "execute_result"
    }
   ],
   "source": [
    "np.argmax(b, axis=0)"
   ]
  },
  {
   "cell_type": "code",
   "execution_count": 40,
   "id": "cdde168f",
   "metadata": {},
   "outputs": [
    {
     "data": {
      "text/plain": [
       "array([2, 1, 2, 2, 2, 1], dtype=int64)"
      ]
     },
     "execution_count": 40,
     "metadata": {},
     "output_type": "execute_result"
    }
   ],
   "source": [
    "np.argmax(b, axis=1)"
   ]
  },
  {
   "cell_type": "code",
   "execution_count": 41,
   "id": "66ae1f13",
   "metadata": {},
   "outputs": [
    {
     "data": {
      "text/plain": [
       "8"
      ]
     },
     "execution_count": 41,
     "metadata": {},
     "output_type": "execute_result"
    }
   ],
   "source": [
    "np.argmin(a)"
   ]
  },
  {
   "cell_type": "code",
   "execution_count": 43,
   "id": "2da75156",
   "metadata": {},
   "outputs": [
    {
     "data": {
      "text/plain": [
       "array([0, 0, 0, 0], dtype=int64)"
      ]
     },
     "execution_count": 43,
     "metadata": {},
     "output_type": "execute_result"
    }
   ],
   "source": [
    "np.argmin(b, axis=0)"
   ]
  },
  {
   "cell_type": "code",
   "execution_count": 44,
   "id": "2ce92f42",
   "metadata": {},
   "outputs": [
    {
     "data": {
      "text/plain": [
       "array([0, 3, 0, 0, 1, 0], dtype=int64)"
      ]
     },
     "execution_count": 44,
     "metadata": {},
     "output_type": "execute_result"
    }
   ],
   "source": [
    "np.argmin(b, axis=1)"
   ]
  },
  {
   "cell_type": "markdown",
   "id": "ae90c20c",
   "metadata": {},
   "source": [
    "## np.cumsum & np.cumprod\n",
    "numpy.cumsum() function is used when we want to compute the cumulative sum of array elements over a given axis.\n",
    "numpy.cumprod() function is used when we want to compute the cumulative product of array elements over a given axis.\n",
    "\n",
    "https://numpy.org/doc/stable/reference/generated/numpy.cumsum.html"
   ]
  },
  {
   "cell_type": "code",
   "execution_count": 45,
   "id": "440dba9c",
   "metadata": {},
   "outputs": [
    {
     "data": {
      "text/plain": [
       "array([80, 61, 20, 20,  6, 77, 81, 31,  1, 73, 25, 49, 28, 53, 24])"
      ]
     },
     "execution_count": 45,
     "metadata": {},
     "output_type": "execute_result"
    }
   ],
   "source": [
    "a"
   ]
  },
  {
   "cell_type": "code",
   "execution_count": 46,
   "id": "d92facd5",
   "metadata": {},
   "outputs": [
    {
     "data": {
      "text/plain": [
       "array([ 80, 141, 161, 181, 187, 264, 345, 376, 377, 450, 475, 524, 552,\n",
       "       605, 629], dtype=int32)"
      ]
     },
     "execution_count": 46,
     "metadata": {},
     "output_type": "execute_result"
    }
   ],
   "source": [
    "np.cumsum(a)"
   ]
  },
  {
   "cell_type": "code",
   "execution_count": 47,
   "id": "d4e3bb7d",
   "metadata": {},
   "outputs": [
    {
     "data": {
      "text/plain": [
       "array([[ 1, 16, 17,  9],\n",
       "       [17, 95, 19, 13],\n",
       "       [ 9, 54, 73, 50],\n",
       "       [16, 60, 90, 64],\n",
       "       [86, 24, 91, 79],\n",
       "       [20, 54, 41, 51]])"
      ]
     },
     "execution_count": 47,
     "metadata": {},
     "output_type": "execute_result"
    }
   ],
   "source": [
    "b"
   ]
  },
  {
   "cell_type": "code",
   "execution_count": 49,
   "id": "f123233c",
   "metadata": {},
   "outputs": [
    {
     "data": {
      "text/plain": [
       "array([[  1,  16,  17,   9],\n",
       "       [ 18, 111,  36,  22],\n",
       "       [ 27, 165, 109,  72],\n",
       "       [ 43, 225, 199, 136],\n",
       "       [129, 249, 290, 215],\n",
       "       [149, 303, 331, 266]], dtype=int32)"
      ]
     },
     "execution_count": 49,
     "metadata": {},
     "output_type": "execute_result"
    }
   ],
   "source": [
    "np.cumsum(b, axis=0)"
   ]
  },
  {
   "cell_type": "code",
   "execution_count": 48,
   "id": "9abb0ddb",
   "metadata": {},
   "outputs": [
    {
     "data": {
      "text/plain": [
       "array([[  1,  17,  34,  43],\n",
       "       [ 17, 112, 131, 144],\n",
       "       [  9,  63, 136, 186],\n",
       "       [ 16,  76, 166, 230],\n",
       "       [ 86, 110, 201, 280],\n",
       "       [ 20,  74, 115, 166]], dtype=int32)"
      ]
     },
     "execution_count": 48,
     "metadata": {},
     "output_type": "execute_result"
    }
   ],
   "source": [
    "np.cumsum(b, axis=1)"
   ]
  },
  {
   "cell_type": "code",
   "execution_count": 50,
   "id": "60bbf49f",
   "metadata": {},
   "outputs": [
    {
     "data": {
      "text/plain": [
       "array([   1,   17,   34,   43,   60,  155,  174,  187,  196,  250,  323,\n",
       "        373,  389,  449,  539,  603,  689,  713,  804,  883,  903,  957,\n",
       "        998, 1049], dtype=int32)"
      ]
     },
     "execution_count": 50,
     "metadata": {},
     "output_type": "execute_result"
    }
   ],
   "source": [
    "# cumulative sum by rows\n",
    "np.cumsum(b)"
   ]
  },
  {
   "cell_type": "code",
   "execution_count": 52,
   "id": "e4890400",
   "metadata": {},
   "outputs": [
    {
     "data": {
      "text/plain": [
       "array([80, 61, 20, 20,  6, 77, 81, 31,  1, 73, 25, 49, 28, 53, 24])"
      ]
     },
     "execution_count": 52,
     "metadata": {},
     "output_type": "execute_result"
    }
   ],
   "source": [
    "a"
   ]
  },
  {
   "cell_type": "code",
   "execution_count": 51,
   "id": "6e3a73cd",
   "metadata": {},
   "outputs": [
    {
     "data": {
      "text/plain": [
       "array([         80,        4880,       97600,     1952000,    11712000,\n",
       "         901824000,    33299968,  1032299008,  1032299008, -1951583744,\n",
       "       -1544953344,  1606697472,  2037856256,   632199168, -2007089152],\n",
       "      dtype=int32)"
      ]
     },
     "execution_count": 51,
     "metadata": {},
     "output_type": "execute_result"
    }
   ],
   "source": [
    "np.cumprod(a)"
   ]
  },
  {
   "cell_type": "markdown",
   "id": "8851daf8",
   "metadata": {},
   "source": [
    "## np.percentile\n",
    "numpy.percentile() function used to compute the nth percentile of the given data (array elements) along the specified axis.\n",
    "\n",
    "https://numpy.org/doc/stable/reference/generated/numpy.percentile.html"
   ]
  },
  {
   "cell_type": "code",
   "execution_count": 53,
   "id": "5b95f2ce",
   "metadata": {},
   "outputs": [
    {
     "data": {
      "text/plain": [
       "array([80, 61, 20, 20,  6, 77, 81, 31,  1, 73, 25, 49, 28, 53, 24])"
      ]
     },
     "execution_count": 53,
     "metadata": {},
     "output_type": "execute_result"
    }
   ],
   "source": [
    "a"
   ]
  },
  {
   "cell_type": "code",
   "execution_count": 54,
   "id": "92c4d5a7",
   "metadata": {},
   "outputs": [
    {
     "data": {
      "text/plain": [
       "31.0"
      ]
     },
     "execution_count": 54,
     "metadata": {},
     "output_type": "execute_result"
    }
   ],
   "source": [
    "np.percentile(a, 50)"
   ]
  },
  {
   "cell_type": "code",
   "execution_count": 55,
   "id": "0952d8d5",
   "metadata": {},
   "outputs": [
    {
     "data": {
      "text/plain": [
       "31.0"
      ]
     },
     "execution_count": 55,
     "metadata": {},
     "output_type": "execute_result"
    }
   ],
   "source": [
    "np.median(a)"
   ]
  },
  {
   "cell_type": "markdown",
   "id": "db800152",
   "metadata": {},
   "source": [
    "## np.histogram\n",
    "Numpy has a built-in numpy.histogram() function which represents the frequency of data distribution in the graphical form.\n",
    "\n",
    "https://numpy.org/doc/stable/reference/generated/numpy.histogram.html"
   ]
  },
  {
   "cell_type": "code",
   "execution_count": 56,
   "id": "0f53da04",
   "metadata": {},
   "outputs": [
    {
     "data": {
      "text/plain": [
       "array([80, 61, 20, 20,  6, 77, 81, 31,  1, 73, 25, 49, 28, 53, 24])"
      ]
     },
     "execution_count": 56,
     "metadata": {},
     "output_type": "execute_result"
    }
   ],
   "source": [
    "a"
   ]
  },
  {
   "cell_type": "code",
   "execution_count": 57,
   "id": "e56f9058",
   "metadata": {},
   "outputs": [
    {
     "data": {
      "text/plain": [
       "(array([0, 5, 1, 1, 1, 1, 2, 2], dtype=int64),\n",
       " array([10, 20, 30, 40, 50, 60, 70, 80, 90]))"
      ]
     },
     "execution_count": 57,
     "metadata": {},
     "output_type": "execute_result"
    }
   ],
   "source": [
    "np.histogram(a, bins= [10,20,30,40,50,60,70,80,90])"
   ]
  },
  {
   "cell_type": "code",
   "execution_count": 58,
   "id": "937b8cc4",
   "metadata": {},
   "outputs": [
    {
     "data": {
      "text/plain": [
       "(array([9, 6], dtype=int64), array([  0,  50, 100]))"
      ]
     },
     "execution_count": 58,
     "metadata": {},
     "output_type": "execute_result"
    }
   ],
   "source": [
    "np.histogram(a,bins=[0,50,100])"
   ]
  },
  {
   "cell_type": "markdown",
   "id": "599b3890",
   "metadata": {},
   "source": [
    "## np.corrcoef\n",
    "Return Pearson product-moment correlation coefficients.\n",
    "\n",
    "https://numpy.org/doc/stable/reference/generated/numpy.corrcoef.html"
   ]
  },
  {
   "cell_type": "code",
   "execution_count": 59,
   "id": "3a0f5f95",
   "metadata": {},
   "outputs": [
    {
     "data": {
      "text/plain": [
       "array([[1.        , 0.25344572],\n",
       "       [0.25344572, 1.        ]])"
      ]
     },
     "execution_count": 59,
     "metadata": {},
     "output_type": "execute_result"
    }
   ],
   "source": [
    "salary = np.array([20000,40000,25000,35000,60000])\n",
    "experience = np.array([1,3,2,4,2])\n",
    "\n",
    "np.corrcoef(salary, experience)"
   ]
  },
  {
   "cell_type": "markdown",
   "id": "b24f4448",
   "metadata": {},
   "source": [
    "## np.isin\n",
    "With the help of numpy.isin() method, we can see that one array having values are checked in a different numpy array having different elements with different sizes.\n",
    "\n",
    "https://numpy.org/doc/stable/reference/generated/numpy.isin.html"
   ]
  },
  {
   "cell_type": "code",
   "execution_count": 60,
   "id": "5899c301",
   "metadata": {},
   "outputs": [
    {
     "data": {
      "text/plain": [
       "array([80, 61, 20, 20,  6, 77, 81, 31,  1, 73, 25, 49, 28, 53, 24])"
      ]
     },
     "execution_count": 60,
     "metadata": {},
     "output_type": "execute_result"
    }
   ],
   "source": [
    "a"
   ]
  },
  {
   "cell_type": "code",
   "execution_count": 61,
   "id": "ae76425b",
   "metadata": {},
   "outputs": [],
   "source": [
    "items = [10,20,30,40,50,60,70,80,90,100]"
   ]
  },
  {
   "cell_type": "code",
   "execution_count": 63,
   "id": "4837e121",
   "metadata": {},
   "outputs": [
    {
     "data": {
      "text/plain": [
       "array([80, 20, 20])"
      ]
     },
     "execution_count": 63,
     "metadata": {},
     "output_type": "execute_result"
    }
   ],
   "source": [
    "a[np.isin(a, items)]"
   ]
  },
  {
   "cell_type": "markdown",
   "id": "606d04a5",
   "metadata": {},
   "source": [
    "## np.flip\n",
    "The numpy.flip() function reverses the order of array elements along the specified axis, preserving the shape of the array.\n",
    "\n",
    "https://numpy.org/doc/stable/reference/generated/numpy.flip.html"
   ]
  },
  {
   "cell_type": "code",
   "execution_count": 64,
   "id": "ad3d1be3",
   "metadata": {},
   "outputs": [
    {
     "data": {
      "text/plain": [
       "array([80, 61, 20, 20,  6, 77, 81, 31,  1, 73, 25, 49, 28, 53, 24])"
      ]
     },
     "execution_count": 64,
     "metadata": {},
     "output_type": "execute_result"
    }
   ],
   "source": [
    "a"
   ]
  },
  {
   "cell_type": "code",
   "execution_count": 65,
   "id": "251661a3",
   "metadata": {},
   "outputs": [
    {
     "data": {
      "text/plain": [
       "array([24, 53, 28, 49, 25, 73,  1, 31, 81, 77,  6, 20, 20, 61, 80])"
      ]
     },
     "execution_count": 65,
     "metadata": {},
     "output_type": "execute_result"
    }
   ],
   "source": [
    "np.flip(a)"
   ]
  },
  {
   "cell_type": "code",
   "execution_count": 66,
   "id": "0c4122eb",
   "metadata": {},
   "outputs": [
    {
     "data": {
      "text/plain": [
       "array([[ 1, 16, 17,  9],\n",
       "       [17, 95, 19, 13],\n",
       "       [ 9, 54, 73, 50],\n",
       "       [16, 60, 90, 64],\n",
       "       [86, 24, 91, 79],\n",
       "       [20, 54, 41, 51]])"
      ]
     },
     "execution_count": 66,
     "metadata": {},
     "output_type": "execute_result"
    }
   ],
   "source": [
    "b"
   ]
  },
  {
   "cell_type": "code",
   "execution_count": 68,
   "id": "12da5691",
   "metadata": {},
   "outputs": [
    {
     "data": {
      "text/plain": [
       "array([[20, 54, 41, 51],\n",
       "       [86, 24, 91, 79],\n",
       "       [16, 60, 90, 64],\n",
       "       [ 9, 54, 73, 50],\n",
       "       [17, 95, 19, 13],\n",
       "       [ 1, 16, 17,  9]])"
      ]
     },
     "execution_count": 68,
     "metadata": {},
     "output_type": "execute_result"
    }
   ],
   "source": [
    "np.flip(b, axis=0)"
   ]
  },
  {
   "cell_type": "code",
   "execution_count": 69,
   "id": "3d8a8149",
   "metadata": {},
   "outputs": [
    {
     "data": {
      "text/plain": [
       "array([[ 9, 17, 16,  1],\n",
       "       [13, 19, 95, 17],\n",
       "       [50, 73, 54,  9],\n",
       "       [64, 90, 60, 16],\n",
       "       [79, 91, 24, 86],\n",
       "       [51, 41, 54, 20]])"
      ]
     },
     "execution_count": 69,
     "metadata": {},
     "output_type": "execute_result"
    }
   ],
   "source": [
    "np.flip(b, axis=1)"
   ]
  },
  {
   "cell_type": "markdown",
   "id": "c3fb1d57",
   "metadata": {},
   "source": [
    "## np.put\n",
    "The numpy.put() function replaces specific elements of an array with given values of p_array. Array indexed works on flattened array.\n",
    "\n",
    "https://numpy.org/doc/stable/reference/generated/numpy.put.html"
   ]
  },
  {
   "cell_type": "code",
   "execution_count": 70,
   "id": "9358707b",
   "metadata": {},
   "outputs": [
    {
     "data": {
      "text/plain": [
       "array([80, 61, 20, 20,  6, 77, 81, 31,  1, 73, 25, 49, 28, 53, 24])"
      ]
     },
     "execution_count": 70,
     "metadata": {},
     "output_type": "execute_result"
    }
   ],
   "source": [
    "a"
   ]
  },
  {
   "cell_type": "code",
   "execution_count": 71,
   "id": "2f2cd212",
   "metadata": {},
   "outputs": [],
   "source": [
    "np.put(a, [0, 1], [110, 530])"
   ]
  },
  {
   "cell_type": "code",
   "execution_count": 72,
   "id": "59744a47",
   "metadata": {},
   "outputs": [
    {
     "data": {
      "text/plain": [
       "array([110, 530,  20,  20,   6,  77,  81,  31,   1,  73,  25,  49,  28,\n",
       "        53,  24])"
      ]
     },
     "execution_count": 72,
     "metadata": {},
     "output_type": "execute_result"
    }
   ],
   "source": [
    "a"
   ]
  },
  {
   "cell_type": "markdown",
   "id": "9928bae3",
   "metadata": {},
   "source": [
    "## np.delete\n",
    "The numpy.delete() function returns a new array with the deletion of sub-arrays along with the mentioned axis.\n",
    "\n",
    "https://numpy.org/doc/stable/reference/generated/numpy.delete.html"
   ]
  },
  {
   "cell_type": "code",
   "execution_count": 73,
   "id": "4f535cbc",
   "metadata": {},
   "outputs": [
    {
     "data": {
      "text/plain": [
       "array([110, 530,  20,  20,   6,  77,  81,  31,   1,  73,  25,  49,  28,\n",
       "        53,  24])"
      ]
     },
     "execution_count": 73,
     "metadata": {},
     "output_type": "execute_result"
    }
   ],
   "source": [
    "a"
   ]
  },
  {
   "cell_type": "code",
   "execution_count": 74,
   "id": "a8cfbd61",
   "metadata": {},
   "outputs": [
    {
     "data": {
      "text/plain": [
       "array([20, 20,  6, 77, 81, 31,  1, 73, 25, 49, 28, 53, 24])"
      ]
     },
     "execution_count": 74,
     "metadata": {},
     "output_type": "execute_result"
    }
   ],
   "source": [
    "np.delete(a, [0,1])"
   ]
  },
  {
   "cell_type": "markdown",
   "id": "47acba80",
   "metadata": {},
   "source": [
    "## Set functions"
   ]
  },
  {
   "cell_type": "markdown",
   "id": "33ff647f",
   "metadata": {},
   "source": [
    "* np.union1d\n",
    "* np.intersect1d\n",
    "* np.setdiff1d\n",
    "* np.setxor1d\n",
    "* np.in1d"
   ]
  },
  {
   "cell_type": "code",
   "execution_count": 77,
   "id": "2c46ec83",
   "metadata": {},
   "outputs": [
    {
     "data": {
      "text/plain": [
       "array([ 1,  2,  3,  4,  5,  6,  7,  8,  9, 10])"
      ]
     },
     "execution_count": 77,
     "metadata": {},
     "output_type": "execute_result"
    }
   ],
   "source": [
    "# np.union1d gives the union of the two array where it takes only unique values of both the array\n",
    "\n",
    "m= np.array([1,2,3,4,5,6,7])\n",
    "n= np.array([3,4,5,6,7,8,9,10])\n",
    "\n",
    "np.union1d(m,n)"
   ]
  },
  {
   "cell_type": "code",
   "execution_count": 78,
   "id": "ab089197",
   "metadata": {},
   "outputs": [
    {
     "data": {
      "text/plain": [
       "array([3, 4, 5, 6, 7])"
      ]
     },
     "execution_count": 78,
     "metadata": {},
     "output_type": "execute_result"
    }
   ],
   "source": [
    "# np.intersect1d gives the intersection of the two array which means the common elements of both the array\n",
    "\n",
    "np.intersect1d(m,n)"
   ]
  },
  {
   "cell_type": "code",
   "execution_count": 79,
   "id": "af367ebe",
   "metadata": {},
   "outputs": [
    {
     "data": {
      "text/plain": [
       "array([1, 2])"
      ]
     },
     "execution_count": 79,
     "metadata": {},
     "output_type": "execute_result"
    }
   ],
   "source": [
    "# np.setdiff1d gives the uncommon element of the array\n",
    "# np.setdiff1d(m,n) gives the uncommon or unique elements of m\n",
    "\n",
    "np.setdiff1d(m,n)"
   ]
  },
  {
   "cell_type": "code",
   "execution_count": 81,
   "id": "ab829fe1",
   "metadata": {},
   "outputs": [
    {
     "data": {
      "text/plain": [
       "array([ 8,  9, 10])"
      ]
     },
     "execution_count": 81,
     "metadata": {},
     "output_type": "execute_result"
    }
   ],
   "source": [
    "# np.setdiff1d(n,m) gives the uncommon or unique elements of n \n",
    "\n",
    "np.setdiff1d(n,m)"
   ]
  },
  {
   "cell_type": "code",
   "execution_count": 80,
   "id": "8e6d896e",
   "metadata": {},
   "outputs": [
    {
     "data": {
      "text/plain": [
       "array([ 1,  2,  8,  9, 10])"
      ]
     },
     "execution_count": 80,
     "metadata": {},
     "output_type": "execute_result"
    }
   ],
   "source": [
    "# np.setxor1d gives the unique element of both the arrays\n",
    "\n",
    "np.setxor1d(m,n)"
   ]
  },
  {
   "cell_type": "code",
   "execution_count": 92,
   "id": "83083bc0",
   "metadata": {},
   "outputs": [
    {
     "data": {
      "text/plain": [
       "array([4])"
      ]
     },
     "execution_count": 92,
     "metadata": {},
     "output_type": "execute_result"
    }
   ],
   "source": [
    "# numpy.in1d(ar1, ar2) Tests whether each element of a 1-D array is also present in a second array.\n",
    "# np.in1d(m,1) tests whether 1 is present is m or not.\n",
    "\n",
    "m[np.in1d(m,4)]"
   ]
  },
  {
   "cell_type": "code",
   "execution_count": 94,
   "id": "26ee91b6",
   "metadata": {},
   "outputs": [
    {
     "data": {
      "text/plain": [
       "array([], dtype=int32)"
      ]
     },
     "execution_count": 94,
     "metadata": {},
     "output_type": "execute_result"
    }
   ],
   "source": [
    "# 0 is not present in m\n",
    "m[np.in1d(m,0)]"
   ]
  },
  {
   "cell_type": "code",
   "execution_count": 93,
   "id": "4a7e536f",
   "metadata": {},
   "outputs": [
    {
     "data": {
      "text/plain": [
       "array([5])"
      ]
     },
     "execution_count": 93,
     "metadata": {},
     "output_type": "execute_result"
    }
   ],
   "source": [
    "n[np.in1d(n,5)]"
   ]
  },
  {
   "cell_type": "code",
   "execution_count": 95,
   "id": "eb5b5ce4",
   "metadata": {},
   "outputs": [
    {
     "data": {
      "text/plain": [
       "array([], dtype=int32)"
      ]
     },
     "execution_count": 95,
     "metadata": {},
     "output_type": "execute_result"
    }
   ],
   "source": [
    "# 14 is not present in n\n",
    "n[np.in1d(n,14)]"
   ]
  },
  {
   "cell_type": "markdown",
   "id": "5d91287d",
   "metadata": {},
   "source": [
    "## np.clip\n",
    "numpy.clip() function is used to Clip (limit) the values in an array.\n",
    "\n",
    "https://numpy.org/doc/stable/reference/generated/numpy.clip.html"
   ]
  },
  {
   "cell_type": "code",
   "execution_count": 96,
   "id": "2327c2cc",
   "metadata": {},
   "outputs": [
    {
     "data": {
      "text/plain": [
       "array([110, 530,  20,  20,   6,  77,  81,  31,   1,  73,  25,  49,  28,\n",
       "        53,  24])"
      ]
     },
     "execution_count": 96,
     "metadata": {},
     "output_type": "execute_result"
    }
   ],
   "source": [
    "a"
   ]
  },
  {
   "cell_type": "code",
   "execution_count": 97,
   "id": "03b4b956",
   "metadata": {},
   "outputs": [
    {
     "data": {
      "text/plain": [
       "array([75, 75, 25, 25, 25, 75, 75, 31, 25, 73, 25, 49, 28, 53, 25])"
      ]
     },
     "execution_count": 97,
     "metadata": {},
     "output_type": "execute_result"
    }
   ],
   "source": [
    "# number > 75 will be mapped to 75 and the number < 25 will be mapped to 25, rest numbers between 27 to 75 will remain \n",
    "# as it is without any change\n",
    "np.clip(a, a_min=25, a_max= 75)"
   ]
  },
  {
   "cell_type": "code",
   "execution_count": null,
   "id": "148cd185",
   "metadata": {},
   "outputs": [],
   "source": [
    "# 17. np.swapaxes"
   ]
  },
  {
   "cell_type": "code",
   "execution_count": null,
   "id": "8916b70e",
   "metadata": {},
   "outputs": [],
   "source": [
    "# 18. np.uniform"
   ]
  },
  {
   "cell_type": "code",
   "execution_count": null,
   "id": "45427936",
   "metadata": {},
   "outputs": [],
   "source": [
    "# 19. np.count_nonzero"
   ]
  },
  {
   "cell_type": "code",
   "execution_count": null,
   "id": "a2c93506",
   "metadata": {},
   "outputs": [],
   "source": [
    "# 21. np.tile\n",
    "# https://www.kaggle.com/code/abhayparashar31/best-numpy-functions-for-data-science-50?scriptVersionId=98816580"
   ]
  },
  {
   "cell_type": "code",
   "execution_count": null,
   "id": "3eadeaf0",
   "metadata": {},
   "outputs": [],
   "source": [
    "# 22. np.repeat\n",
    "# https://towardsdatascience.com/10-numpy-functions-you-should-know-1dc4863764c5"
   ]
  },
  {
   "cell_type": "code",
   "execution_count": null,
   "id": "e4dc22e2",
   "metadata": {},
   "outputs": [],
   "source": [
    "# 25. np.allclose and equals"
   ]
  }
 ],
 "metadata": {
  "kernelspec": {
   "display_name": "Python 3 (ipykernel)",
   "language": "python",
   "name": "python3"
  },
  "language_info": {
   "codemirror_mode": {
    "name": "ipython",
    "version": 3
   },
   "file_extension": ".py",
   "mimetype": "text/x-python",
   "name": "python",
   "nbconvert_exporter": "python",
   "pygments_lexer": "ipython3",
   "version": "3.9.7"
  }
 },
 "nbformat": 4,
 "nbformat_minor": 5
}
